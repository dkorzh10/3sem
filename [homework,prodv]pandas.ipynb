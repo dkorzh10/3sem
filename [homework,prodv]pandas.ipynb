{
  "nbformat": 4,
  "nbformat_minor": 0,
  "metadata": {
    "colab": {
      "name": "[homework,prodv]pandas.ipynb",
      "provenance": [],
      "collapsed_sections": [],
      "toc_visible": true,
      "include_colab_link": true
    },
    "kernelspec": {
      "display_name": "Python 3",
      "language": "python",
      "name": "python3"
    }
  },
  "cells": [
    {
      "cell_type": "markdown",
      "metadata": {
        "id": "view-in-github",
        "colab_type": "text"
      },
      "source": [
        "<a href=\"https://colab.research.google.com/github/dkorzh10/3sem/blob/master/%5Bhomework%2Cprodv%5Dpandas.ipynb\" target=\"_parent\"><img src=\"https://colab.research.google.com/assets/colab-badge.svg\" alt=\"Open In Colab\"/></a>"
      ]
    },
    {
      "cell_type": "markdown",
      "metadata": {
        "id": "ka8EsSp8YNED",
        "colab_type": "text"
      },
      "source": [
        "<p style=\"align: center;\"><img src=\"https://static.tildacdn.com/tild6636-3531-4239-b465-376364646465/Deep_Learning_School.png\", width=600, height=300></p>\n",
        "\n",
        "<h3 style=\"text-align: center;\"><b>Физтех-Школа Прикладной математики и информатики (ФПМИ) МФТИ</b></h3>"
      ]
    },
    {
      "cell_type": "markdown",
      "metadata": {
        "id": "W3HlSElnYNED",
        "colab_type": "text"
      },
      "source": [
        "<h2 style=\"text-align: center;\"><b>Библиотека <a href=\"http://pandas.pydata.org/\">pandas</a>: домашнее задание</b></h2>"
      ]
    },
    {
      "cell_type": "markdown",
      "metadata": {
        "id": "Bq6fzJZDYNEE",
        "colab_type": "text"
      },
      "source": [
        "Перед этим заданием необходимо просмотреть и прорешать соответствующий семинар. Он полезный, правда!"
      ]
    },
    {
      "cell_type": "code",
      "metadata": {
        "id": "Rl48-GqCYNEF",
        "colab_type": "code",
        "colab": {}
      },
      "source": [
        "#!pip install pandas"
      ],
      "execution_count": 0,
      "outputs": []
    },
    {
      "cell_type": "code",
      "metadata": {
        "id": "fNjo9Tk7YNEI",
        "colab_type": "code",
        "colab": {}
      },
      "source": [
        "import pandas as pd\n",
        "import numpy as np"
      ],
      "execution_count": 0,
      "outputs": []
    },
    {
      "cell_type": "markdown",
      "metadata": {
        "id": "fZaQFimMYNEK",
        "colab_type": "text"
      },
      "source": [
        "<img src=\"http://www.keepcalmstudio.com/_gallery/1500/kcs_dd487f3f.png\" width=300 height=300>"
      ]
    },
    {
      "cell_type": "markdown",
      "metadata": {
        "id": "1xPaEni5YNEL",
        "colab_type": "text"
      },
      "source": [
        "### Даю DATA: https://www.kaggle.com/mehdidag/black-friday"
      ]
    },
    {
      "cell_type": "code",
      "metadata": {
        "id": "my6fQWvBYNEM",
        "colab_type": "code",
        "colab": {}
      },
      "source": [
        "data = pd.read_csv('./BlackFriday.csv')"
      ],
      "execution_count": 0,
      "outputs": []
    },
    {
      "cell_type": "markdown",
      "metadata": {
        "id": "Tvo9H9BpYNEN",
        "colab_type": "text"
      },
      "source": [
        "Посмотрим, что же такое переменная `data`:"
      ]
    },
    {
      "cell_type": "code",
      "metadata": {
        "id": "45ckp1neYNEO",
        "colab_type": "code",
        "outputId": "b532cf74-91e9-434b-fcae-e6bc3f351ef4",
        "colab": {
          "base_uri": "https://localhost:8080/",
          "height": 592
        }
      },
      "source": [
        "data"
      ],
      "execution_count": 10,
      "outputs": [
        {
          "output_type": "execute_result",
          "data": {
            "text/html": [
              "<div>\n",
              "<style scoped>\n",
              "    .dataframe tbody tr th:only-of-type {\n",
              "        vertical-align: middle;\n",
              "    }\n",
              "\n",
              "    .dataframe tbody tr th {\n",
              "        vertical-align: top;\n",
              "    }\n",
              "\n",
              "    .dataframe thead th {\n",
              "        text-align: right;\n",
              "    }\n",
              "</style>\n",
              "<table border=\"1\" class=\"dataframe\">\n",
              "  <thead>\n",
              "    <tr style=\"text-align: right;\">\n",
              "      <th></th>\n",
              "      <th>User_ID</th>\n",
              "      <th>Product_ID</th>\n",
              "      <th>Gender</th>\n",
              "      <th>Age</th>\n",
              "      <th>Occupation</th>\n",
              "      <th>City_Category</th>\n",
              "      <th>Stay_In_Current_City_Years</th>\n",
              "      <th>Marital_Status</th>\n",
              "      <th>Product_Category_1</th>\n",
              "      <th>Product_Category_2</th>\n",
              "      <th>Product_Category_3</th>\n",
              "      <th>Purchase</th>\n",
              "    </tr>\n",
              "  </thead>\n",
              "  <tbody>\n",
              "    <tr>\n",
              "      <th>0</th>\n",
              "      <td>1000001</td>\n",
              "      <td>P00069042</td>\n",
              "      <td>F</td>\n",
              "      <td>0-17</td>\n",
              "      <td>10</td>\n",
              "      <td>A</td>\n",
              "      <td>2</td>\n",
              "      <td>0</td>\n",
              "      <td>3</td>\n",
              "      <td>NaN</td>\n",
              "      <td>NaN</td>\n",
              "      <td>8370</td>\n",
              "    </tr>\n",
              "    <tr>\n",
              "      <th>1</th>\n",
              "      <td>1000001</td>\n",
              "      <td>P00248942</td>\n",
              "      <td>F</td>\n",
              "      <td>0-17</td>\n",
              "      <td>10</td>\n",
              "      <td>A</td>\n",
              "      <td>2</td>\n",
              "      <td>0</td>\n",
              "      <td>1</td>\n",
              "      <td>6.0</td>\n",
              "      <td>14.0</td>\n",
              "      <td>15200</td>\n",
              "    </tr>\n",
              "    <tr>\n",
              "      <th>2</th>\n",
              "      <td>1000001</td>\n",
              "      <td>P00087842</td>\n",
              "      <td>F</td>\n",
              "      <td>0-17</td>\n",
              "      <td>10</td>\n",
              "      <td>A</td>\n",
              "      <td>2</td>\n",
              "      <td>0</td>\n",
              "      <td>12</td>\n",
              "      <td>NaN</td>\n",
              "      <td>NaN</td>\n",
              "      <td>1422</td>\n",
              "    </tr>\n",
              "    <tr>\n",
              "      <th>3</th>\n",
              "      <td>1000001</td>\n",
              "      <td>P00085442</td>\n",
              "      <td>F</td>\n",
              "      <td>0-17</td>\n",
              "      <td>10</td>\n",
              "      <td>A</td>\n",
              "      <td>2</td>\n",
              "      <td>0</td>\n",
              "      <td>12</td>\n",
              "      <td>14.0</td>\n",
              "      <td>NaN</td>\n",
              "      <td>1057</td>\n",
              "    </tr>\n",
              "    <tr>\n",
              "      <th>4</th>\n",
              "      <td>1000002</td>\n",
              "      <td>P00285442</td>\n",
              "      <td>M</td>\n",
              "      <td>55+</td>\n",
              "      <td>16</td>\n",
              "      <td>C</td>\n",
              "      <td>4+</td>\n",
              "      <td>0</td>\n",
              "      <td>8</td>\n",
              "      <td>NaN</td>\n",
              "      <td>NaN</td>\n",
              "      <td>7969</td>\n",
              "    </tr>\n",
              "    <tr>\n",
              "      <th>...</th>\n",
              "      <td>...</td>\n",
              "      <td>...</td>\n",
              "      <td>...</td>\n",
              "      <td>...</td>\n",
              "      <td>...</td>\n",
              "      <td>...</td>\n",
              "      <td>...</td>\n",
              "      <td>...</td>\n",
              "      <td>...</td>\n",
              "      <td>...</td>\n",
              "      <td>...</td>\n",
              "      <td>...</td>\n",
              "    </tr>\n",
              "    <tr>\n",
              "      <th>537572</th>\n",
              "      <td>1004737</td>\n",
              "      <td>P00193542</td>\n",
              "      <td>M</td>\n",
              "      <td>36-45</td>\n",
              "      <td>16</td>\n",
              "      <td>C</td>\n",
              "      <td>1</td>\n",
              "      <td>0</td>\n",
              "      <td>1</td>\n",
              "      <td>2.0</td>\n",
              "      <td>NaN</td>\n",
              "      <td>11664</td>\n",
              "    </tr>\n",
              "    <tr>\n",
              "      <th>537573</th>\n",
              "      <td>1004737</td>\n",
              "      <td>P00111142</td>\n",
              "      <td>M</td>\n",
              "      <td>36-45</td>\n",
              "      <td>16</td>\n",
              "      <td>C</td>\n",
              "      <td>1</td>\n",
              "      <td>0</td>\n",
              "      <td>1</td>\n",
              "      <td>15.0</td>\n",
              "      <td>16.0</td>\n",
              "      <td>19196</td>\n",
              "    </tr>\n",
              "    <tr>\n",
              "      <th>537574</th>\n",
              "      <td>1004737</td>\n",
              "      <td>P00345942</td>\n",
              "      <td>M</td>\n",
              "      <td>36-45</td>\n",
              "      <td>16</td>\n",
              "      <td>C</td>\n",
              "      <td>1</td>\n",
              "      <td>0</td>\n",
              "      <td>8</td>\n",
              "      <td>15.0</td>\n",
              "      <td>NaN</td>\n",
              "      <td>8043</td>\n",
              "    </tr>\n",
              "    <tr>\n",
              "      <th>537575</th>\n",
              "      <td>1004737</td>\n",
              "      <td>P00285842</td>\n",
              "      <td>M</td>\n",
              "      <td>36-45</td>\n",
              "      <td>16</td>\n",
              "      <td>C</td>\n",
              "      <td>1</td>\n",
              "      <td>0</td>\n",
              "      <td>5</td>\n",
              "      <td>NaN</td>\n",
              "      <td>NaN</td>\n",
              "      <td>7172</td>\n",
              "    </tr>\n",
              "    <tr>\n",
              "      <th>537576</th>\n",
              "      <td>1004737</td>\n",
              "      <td>P00118242</td>\n",
              "      <td>M</td>\n",
              "      <td>36-45</td>\n",
              "      <td>16</td>\n",
              "      <td>C</td>\n",
              "      <td>1</td>\n",
              "      <td>0</td>\n",
              "      <td>5</td>\n",
              "      <td>8.0</td>\n",
              "      <td>NaN</td>\n",
              "      <td>6875</td>\n",
              "    </tr>\n",
              "  </tbody>\n",
              "</table>\n",
              "<p>537577 rows × 12 columns</p>\n",
              "</div>"
            ],
            "text/plain": [
              "        User_ID Product_ID  ... Product_Category_3 Purchase\n",
              "0       1000001  P00069042  ...                NaN     8370\n",
              "1       1000001  P00248942  ...               14.0    15200\n",
              "2       1000001  P00087842  ...                NaN     1422\n",
              "3       1000001  P00085442  ...                NaN     1057\n",
              "4       1000002  P00285442  ...                NaN     7969\n",
              "...         ...        ...  ...                ...      ...\n",
              "537572  1004737  P00193542  ...                NaN    11664\n",
              "537573  1004737  P00111142  ...               16.0    19196\n",
              "537574  1004737  P00345942  ...                NaN     8043\n",
              "537575  1004737  P00285842  ...                NaN     7172\n",
              "537576  1004737  P00118242  ...                NaN     6875\n",
              "\n",
              "[537577 rows x 12 columns]"
            ]
          },
          "metadata": {
            "tags": []
          },
          "execution_count": 10
        }
      ]
    },
    {
      "cell_type": "code",
      "metadata": {
        "id": "f0SspKW5YNEU",
        "colab_type": "code",
        "outputId": "3220a13c-1fdc-488b-91cb-ffdb3ce219d8",
        "colab": {
          "base_uri": "https://localhost:8080/",
          "height": 35
        }
      },
      "source": [
        "type(data)"
      ],
      "execution_count": 11,
      "outputs": [
        {
          "output_type": "execute_result",
          "data": {
            "text/plain": [
              "pandas.core.frame.DataFrame"
            ]
          },
          "metadata": {
            "tags": []
          },
          "execution_count": 11
        }
      ]
    },
    {
      "cell_type": "markdown",
      "metadata": {
        "id": "8Euq1CYeYNEX",
        "colab_type": "text"
      },
      "source": [
        "---"
      ]
    },
    {
      "cell_type": "markdown",
      "metadata": {
        "id": "kwm98nkcYNEY",
        "colab_type": "text"
      },
      "source": [
        "#### Вопрос"
      ]
    },
    {
      "cell_type": "markdown",
      "metadata": {
        "id": "sd8GKDI2YNEZ",
        "colab_type": "text"
      },
      "source": [
        "О чём данные? (Hint: https://www.kaggle.com/mehdidag/black-friday/home)"
      ]
    },
    {
      "cell_type": "markdown",
      "metadata": {
        "id": "S-CQd-BfYNEa",
        "colab_type": "text"
      },
      "source": [
        "---"
      ]
    },
    {
      "cell_type": "markdown",
      "metadata": {
        "id": "3q3tNGOrYNEa",
        "colab_type": "text"
      },
      "source": [
        "#### Основное задание (в тесте надо будет вставлять ответы для этих пунктов):"
      ]
    },
    {
      "cell_type": "markdown",
      "metadata": {
        "id": "--kzTfO2YNEb",
        "colab_type": "text"
      },
      "source": [
        "*Примечание:* не бойтесь гуглить и заглядывать в \"Полезные ссылки\" для того, чтобы выполнить какие-то задания. Возможно, на семинаре не было какого-то нужного метода, но он находится в поисковике за 2 минуты."
      ]
    },
    {
      "cell_type": "markdown",
      "metadata": {
        "id": "WXRRMZe7YNEb",
        "colab_type": "text"
      },
      "source": [
        "**0).** Сколько всего возрастных категорий?  "
      ]
    },
    {
      "cell_type": "code",
      "metadata": {
        "id": "bj7ljslWYNEd",
        "colab_type": "code",
        "colab": {
          "base_uri": "https://localhost:8080/",
          "height": 53
        },
        "outputId": "27484e88-94eb-4334-bd0f-d2b1e164acb7"
      },
      "source": [
        "# Ваш код здесь\n",
        "data.Age.unique()"
      ],
      "execution_count": 16,
      "outputs": [
        {
          "output_type": "execute_result",
          "data": {
            "text/plain": [
              "array(['0-17', '55+', '26-35', '46-50', '51-55', '36-45', '18-25'],\n",
              "      dtype=object)"
            ]
          },
          "metadata": {
            "tags": []
          },
          "execution_count": 16
        }
      ]
    },
    {
      "cell_type": "markdown",
      "metadata": {
        "id": "H4UpHEFbYNEf",
        "colab_type": "text"
      },
      "source": [
        "**1).** Сколько строк с мужчинами из категории города A? (речь не об уникальных ID мужчин, а о количестве строк)  "
      ]
    },
    {
      "cell_type": "code",
      "metadata": {
        "id": "QvbBZrkpYNEg",
        "colab_type": "code",
        "colab": {
          "base_uri": "https://localhost:8080/",
          "height": 609
        },
        "outputId": "0117ff2c-5dd1-4d83-9fdf-5efecd11d3d0"
      },
      "source": [
        "data[(data.Gender=='M') & (data.City_Category=='A')]"
      ],
      "execution_count": 25,
      "outputs": [
        {
          "output_type": "execute_result",
          "data": {
            "text/html": [
              "<div>\n",
              "<style scoped>\n",
              "    .dataframe tbody tr th:only-of-type {\n",
              "        vertical-align: middle;\n",
              "    }\n",
              "\n",
              "    .dataframe tbody tr th {\n",
              "        vertical-align: top;\n",
              "    }\n",
              "\n",
              "    .dataframe thead th {\n",
              "        text-align: right;\n",
              "    }\n",
              "</style>\n",
              "<table border=\"1\" class=\"dataframe\">\n",
              "  <thead>\n",
              "    <tr style=\"text-align: right;\">\n",
              "      <th></th>\n",
              "      <th>User_ID</th>\n",
              "      <th>Product_ID</th>\n",
              "      <th>Gender</th>\n",
              "      <th>Age</th>\n",
              "      <th>Occupation</th>\n",
              "      <th>City_Category</th>\n",
              "      <th>Stay_In_Current_City_Years</th>\n",
              "      <th>Marital_Status</th>\n",
              "      <th>Product_Category_1</th>\n",
              "      <th>Product_Category_2</th>\n",
              "      <th>Product_Category_3</th>\n",
              "      <th>Purchase</th>\n",
              "    </tr>\n",
              "  </thead>\n",
              "  <tbody>\n",
              "    <tr>\n",
              "      <th>5</th>\n",
              "      <td>1000003</td>\n",
              "      <td>P00193542</td>\n",
              "      <td>M</td>\n",
              "      <td>26-35</td>\n",
              "      <td>15</td>\n",
              "      <td>A</td>\n",
              "      <td>3</td>\n",
              "      <td>0</td>\n",
              "      <td>1</td>\n",
              "      <td>2.0</td>\n",
              "      <td>NaN</td>\n",
              "      <td>15227</td>\n",
              "    </tr>\n",
              "    <tr>\n",
              "      <th>9</th>\n",
              "      <td>1000005</td>\n",
              "      <td>P00274942</td>\n",
              "      <td>M</td>\n",
              "      <td>26-35</td>\n",
              "      <td>20</td>\n",
              "      <td>A</td>\n",
              "      <td>1</td>\n",
              "      <td>1</td>\n",
              "      <td>8</td>\n",
              "      <td>NaN</td>\n",
              "      <td>NaN</td>\n",
              "      <td>7871</td>\n",
              "    </tr>\n",
              "    <tr>\n",
              "      <th>10</th>\n",
              "      <td>1000005</td>\n",
              "      <td>P00251242</td>\n",
              "      <td>M</td>\n",
              "      <td>26-35</td>\n",
              "      <td>20</td>\n",
              "      <td>A</td>\n",
              "      <td>1</td>\n",
              "      <td>1</td>\n",
              "      <td>5</td>\n",
              "      <td>11.0</td>\n",
              "      <td>NaN</td>\n",
              "      <td>5254</td>\n",
              "    </tr>\n",
              "    <tr>\n",
              "      <th>11</th>\n",
              "      <td>1000005</td>\n",
              "      <td>P00014542</td>\n",
              "      <td>M</td>\n",
              "      <td>26-35</td>\n",
              "      <td>20</td>\n",
              "      <td>A</td>\n",
              "      <td>1</td>\n",
              "      <td>1</td>\n",
              "      <td>8</td>\n",
              "      <td>NaN</td>\n",
              "      <td>NaN</td>\n",
              "      <td>3957</td>\n",
              "    </tr>\n",
              "    <tr>\n",
              "      <th>12</th>\n",
              "      <td>1000005</td>\n",
              "      <td>P00031342</td>\n",
              "      <td>M</td>\n",
              "      <td>26-35</td>\n",
              "      <td>20</td>\n",
              "      <td>A</td>\n",
              "      <td>1</td>\n",
              "      <td>1</td>\n",
              "      <td>8</td>\n",
              "      <td>NaN</td>\n",
              "      <td>NaN</td>\n",
              "      <td>6073</td>\n",
              "    </tr>\n",
              "    <tr>\n",
              "      <th>...</th>\n",
              "      <td>...</td>\n",
              "      <td>...</td>\n",
              "      <td>...</td>\n",
              "      <td>...</td>\n",
              "      <td>...</td>\n",
              "      <td>...</td>\n",
              "      <td>...</td>\n",
              "      <td>...</td>\n",
              "      <td>...</td>\n",
              "      <td>...</td>\n",
              "      <td>...</td>\n",
              "      <td>...</td>\n",
              "    </tr>\n",
              "    <tr>\n",
              "      <th>537566</th>\n",
              "      <td>1004736</td>\n",
              "      <td>P00048742</td>\n",
              "      <td>M</td>\n",
              "      <td>18-25</td>\n",
              "      <td>20</td>\n",
              "      <td>A</td>\n",
              "      <td>1</td>\n",
              "      <td>1</td>\n",
              "      <td>5</td>\n",
              "      <td>NaN</td>\n",
              "      <td>NaN</td>\n",
              "      <td>5350</td>\n",
              "    </tr>\n",
              "    <tr>\n",
              "      <th>537567</th>\n",
              "      <td>1004736</td>\n",
              "      <td>P00157542</td>\n",
              "      <td>M</td>\n",
              "      <td>18-25</td>\n",
              "      <td>20</td>\n",
              "      <td>A</td>\n",
              "      <td>1</td>\n",
              "      <td>1</td>\n",
              "      <td>8</td>\n",
              "      <td>14.0</td>\n",
              "      <td>NaN</td>\n",
              "      <td>1994</td>\n",
              "    </tr>\n",
              "    <tr>\n",
              "      <th>537568</th>\n",
              "      <td>1004736</td>\n",
              "      <td>P00250642</td>\n",
              "      <td>M</td>\n",
              "      <td>18-25</td>\n",
              "      <td>20</td>\n",
              "      <td>A</td>\n",
              "      <td>1</td>\n",
              "      <td>1</td>\n",
              "      <td>11</td>\n",
              "      <td>NaN</td>\n",
              "      <td>NaN</td>\n",
              "      <td>5930</td>\n",
              "    </tr>\n",
              "    <tr>\n",
              "      <th>537569</th>\n",
              "      <td>1004736</td>\n",
              "      <td>P00023142</td>\n",
              "      <td>M</td>\n",
              "      <td>18-25</td>\n",
              "      <td>20</td>\n",
              "      <td>A</td>\n",
              "      <td>1</td>\n",
              "      <td>1</td>\n",
              "      <td>5</td>\n",
              "      <td>14.0</td>\n",
              "      <td>NaN</td>\n",
              "      <td>7042</td>\n",
              "    </tr>\n",
              "    <tr>\n",
              "      <th>537570</th>\n",
              "      <td>1004736</td>\n",
              "      <td>P00162442</td>\n",
              "      <td>M</td>\n",
              "      <td>18-25</td>\n",
              "      <td>20</td>\n",
              "      <td>A</td>\n",
              "      <td>1</td>\n",
              "      <td>1</td>\n",
              "      <td>1</td>\n",
              "      <td>16.0</td>\n",
              "      <td>NaN</td>\n",
              "      <td>15491</td>\n",
              "    </tr>\n",
              "  </tbody>\n",
              "</table>\n",
              "<p>109831 rows × 12 columns</p>\n",
              "</div>"
            ],
            "text/plain": [
              "        User_ID Product_ID  ... Product_Category_3 Purchase\n",
              "5       1000003  P00193542  ...                NaN    15227\n",
              "9       1000005  P00274942  ...                NaN     7871\n",
              "10      1000005  P00251242  ...                NaN     5254\n",
              "11      1000005  P00014542  ...                NaN     3957\n",
              "12      1000005  P00031342  ...                NaN     6073\n",
              "...         ...        ...  ...                ...      ...\n",
              "537566  1004736  P00048742  ...                NaN     5350\n",
              "537567  1004736  P00157542  ...                NaN     1994\n",
              "537568  1004736  P00250642  ...                NaN     5930\n",
              "537569  1004736  P00023142  ...                NaN     7042\n",
              "537570  1004736  P00162442  ...                NaN    15491\n",
              "\n",
              "[109831 rows x 12 columns]"
            ]
          },
          "metadata": {
            "tags": []
          },
          "execution_count": 25
        }
      ]
    },
    {
      "cell_type": "code",
      "metadata": {
        "id": "4uICV8KCfGWZ",
        "colab_type": "code",
        "colab": {
          "base_uri": "https://localhost:8080/",
          "height": 35
        },
        "outputId": "ddf11612-fb5d-4c68-8055-4ad3c2a6d32f"
      },
      "source": [
        "data[(data.City_Category == \"A\") & (data.Gender == \"M\")].shape[0]"
      ],
      "execution_count": 26,
      "outputs": [
        {
          "output_type": "execute_result",
          "data": {
            "text/plain": [
              "109831"
            ]
          },
          "metadata": {
            "tags": []
          },
          "execution_count": 26
        }
      ]
    },
    {
      "cell_type": "markdown",
      "metadata": {
        "id": "PDC06O38YNEi",
        "colab_type": "text"
      },
      "source": [
        "**2).** Сколько женщин от 46 до 50, потративших (столбец Purchase) больше 20000 (условных единиц, в данном случае)?   (речь не об уникальных ID, а о количестве строк)  "
      ]
    },
    {
      "cell_type": "code",
      "metadata": {
        "id": "T2_v92xoYNEi",
        "colab_type": "code",
        "colab": {
          "base_uri": "https://localhost:8080/",
          "height": 35
        },
        "outputId": "e126eff8-7e27-4eb4-ac45-fec5d0574758"
      },
      "source": [
        "data[(data.Purchase> 20000) & (data.Gender == \"F\") & (data.Age == '46-50')].shape[0]"
      ],
      "execution_count": 28,
      "outputs": [
        {
          "output_type": "execute_result",
          "data": {
            "text/plain": [
              "270"
            ]
          },
          "metadata": {
            "tags": []
          },
          "execution_count": 28
        }
      ]
    },
    {
      "cell_type": "markdown",
      "metadata": {
        "id": "oQNZ-8egYNEm",
        "colab_type": "text"
      },
      "source": [
        "**3).** Сколько NaN'ов в столбце Product_Category_3?  "
      ]
    },
    {
      "cell_type": "code",
      "metadata": {
        "id": "nwxjErPQYNEn",
        "colab_type": "code",
        "colab": {
          "base_uri": "https://localhost:8080/",
          "height": 35
        },
        "outputId": "025ffa46-37bd-4daf-e708-269ed9df2ee4"
      },
      "source": [
        "(data.Product_Category_3.isna()).sum()\n"
      ],
      "execution_count": 30,
      "outputs": [
        {
          "output_type": "execute_result",
          "data": {
            "text/plain": [
              "373299"
            ]
          },
          "metadata": {
            "tags": []
          },
          "execution_count": 30
        }
      ]
    },
    {
      "cell_type": "markdown",
      "metadata": {
        "id": "DxR8KgxBYNEs",
        "colab_type": "text"
      },
      "source": [
        "**4).** Какую долю (вещественное число от 0 до 1, округлить до 4-го знака) от всех покупателей составляют ВМЕСТЕ мужчины от 26 до 35 лет и женщины старше 36 лет (то есть нужно учесть несколько возрастных категорий)? (речь не об уникальных ID, а о количестве таких строк)  "
      ]
    },
    {
      "cell_type": "code",
      "metadata": {
        "id": "ICK0SOJJYNEt",
        "colab_type": "code",
        "colab": {
          "base_uri": "https://localhost:8080/",
          "height": 609
        },
        "outputId": "81bbee5f-7d31-4522-dcae-e11c7f0fca88"
      },
      "source": [
        "#data.shape[0]\n",
        "data[((data.Age == '26-35') & (data.Gender == \"M\"))| ((data.Age == '36-45')|(data.Age == '46-50')|(data.Age == '51-55')|(data.Age == '55+')) & (data.Gender == \"F\")]"
      ],
      "execution_count": 38,
      "outputs": [
        {
          "output_type": "execute_result",
          "data": {
            "text/html": [
              "<div>\n",
              "<style scoped>\n",
              "    .dataframe tbody tr th:only-of-type {\n",
              "        vertical-align: middle;\n",
              "    }\n",
              "\n",
              "    .dataframe tbody tr th {\n",
              "        vertical-align: top;\n",
              "    }\n",
              "\n",
              "    .dataframe thead th {\n",
              "        text-align: right;\n",
              "    }\n",
              "</style>\n",
              "<table border=\"1\" class=\"dataframe\">\n",
              "  <thead>\n",
              "    <tr style=\"text-align: right;\">\n",
              "      <th></th>\n",
              "      <th>User_ID</th>\n",
              "      <th>Product_ID</th>\n",
              "      <th>Gender</th>\n",
              "      <th>Age</th>\n",
              "      <th>Occupation</th>\n",
              "      <th>City_Category</th>\n",
              "      <th>Stay_In_Current_City_Years</th>\n",
              "      <th>Marital_Status</th>\n",
              "      <th>Product_Category_1</th>\n",
              "      <th>Product_Category_2</th>\n",
              "      <th>Product_Category_3</th>\n",
              "      <th>Purchase</th>\n",
              "    </tr>\n",
              "  </thead>\n",
              "  <tbody>\n",
              "    <tr>\n",
              "      <th>5</th>\n",
              "      <td>1000003</td>\n",
              "      <td>P00193542</td>\n",
              "      <td>M</td>\n",
              "      <td>26-35</td>\n",
              "      <td>15</td>\n",
              "      <td>A</td>\n",
              "      <td>3</td>\n",
              "      <td>0</td>\n",
              "      <td>1</td>\n",
              "      <td>2.0</td>\n",
              "      <td>NaN</td>\n",
              "      <td>15227</td>\n",
              "    </tr>\n",
              "    <tr>\n",
              "      <th>9</th>\n",
              "      <td>1000005</td>\n",
              "      <td>P00274942</td>\n",
              "      <td>M</td>\n",
              "      <td>26-35</td>\n",
              "      <td>20</td>\n",
              "      <td>A</td>\n",
              "      <td>1</td>\n",
              "      <td>1</td>\n",
              "      <td>8</td>\n",
              "      <td>NaN</td>\n",
              "      <td>NaN</td>\n",
              "      <td>7871</td>\n",
              "    </tr>\n",
              "    <tr>\n",
              "      <th>10</th>\n",
              "      <td>1000005</td>\n",
              "      <td>P00251242</td>\n",
              "      <td>M</td>\n",
              "      <td>26-35</td>\n",
              "      <td>20</td>\n",
              "      <td>A</td>\n",
              "      <td>1</td>\n",
              "      <td>1</td>\n",
              "      <td>5</td>\n",
              "      <td>11.0</td>\n",
              "      <td>NaN</td>\n",
              "      <td>5254</td>\n",
              "    </tr>\n",
              "    <tr>\n",
              "      <th>11</th>\n",
              "      <td>1000005</td>\n",
              "      <td>P00014542</td>\n",
              "      <td>M</td>\n",
              "      <td>26-35</td>\n",
              "      <td>20</td>\n",
              "      <td>A</td>\n",
              "      <td>1</td>\n",
              "      <td>1</td>\n",
              "      <td>8</td>\n",
              "      <td>NaN</td>\n",
              "      <td>NaN</td>\n",
              "      <td>3957</td>\n",
              "    </tr>\n",
              "    <tr>\n",
              "      <th>12</th>\n",
              "      <td>1000005</td>\n",
              "      <td>P00031342</td>\n",
              "      <td>M</td>\n",
              "      <td>26-35</td>\n",
              "      <td>20</td>\n",
              "      <td>A</td>\n",
              "      <td>1</td>\n",
              "      <td>1</td>\n",
              "      <td>8</td>\n",
              "      <td>NaN</td>\n",
              "      <td>NaN</td>\n",
              "      <td>6073</td>\n",
              "    </tr>\n",
              "    <tr>\n",
              "      <th>...</th>\n",
              "      <td>...</td>\n",
              "      <td>...</td>\n",
              "      <td>...</td>\n",
              "      <td>...</td>\n",
              "      <td>...</td>\n",
              "      <td>...</td>\n",
              "      <td>...</td>\n",
              "      <td>...</td>\n",
              "      <td>...</td>\n",
              "      <td>...</td>\n",
              "      <td>...</td>\n",
              "      <td>...</td>\n",
              "    </tr>\n",
              "    <tr>\n",
              "      <th>537540</th>\n",
              "      <td>1004732</td>\n",
              "      <td>P00124642</td>\n",
              "      <td>M</td>\n",
              "      <td>26-35</td>\n",
              "      <td>14</td>\n",
              "      <td>B</td>\n",
              "      <td>2</td>\n",
              "      <td>1</td>\n",
              "      <td>16</td>\n",
              "      <td>NaN</td>\n",
              "      <td>NaN</td>\n",
              "      <td>16610</td>\n",
              "    </tr>\n",
              "    <tr>\n",
              "      <th>537541</th>\n",
              "      <td>1004732</td>\n",
              "      <td>P00051442</td>\n",
              "      <td>M</td>\n",
              "      <td>26-35</td>\n",
              "      <td>14</td>\n",
              "      <td>B</td>\n",
              "      <td>2</td>\n",
              "      <td>1</td>\n",
              "      <td>8</td>\n",
              "      <td>17.0</td>\n",
              "      <td>NaN</td>\n",
              "      <td>9877</td>\n",
              "    </tr>\n",
              "    <tr>\n",
              "      <th>537542</th>\n",
              "      <td>1004732</td>\n",
              "      <td>P00085242</td>\n",
              "      <td>M</td>\n",
              "      <td>26-35</td>\n",
              "      <td>14</td>\n",
              "      <td>B</td>\n",
              "      <td>2</td>\n",
              "      <td>1</td>\n",
              "      <td>8</td>\n",
              "      <td>14.0</td>\n",
              "      <td>17.0</td>\n",
              "      <td>10036</td>\n",
              "    </tr>\n",
              "    <tr>\n",
              "      <th>537543</th>\n",
              "      <td>1004732</td>\n",
              "      <td>P00117242</td>\n",
              "      <td>M</td>\n",
              "      <td>26-35</td>\n",
              "      <td>14</td>\n",
              "      <td>B</td>\n",
              "      <td>2</td>\n",
              "      <td>1</td>\n",
              "      <td>8</td>\n",
              "      <td>17.0</td>\n",
              "      <td>NaN</td>\n",
              "      <td>7802</td>\n",
              "    </tr>\n",
              "    <tr>\n",
              "      <th>537544</th>\n",
              "      <td>1004732</td>\n",
              "      <td>P00093342</td>\n",
              "      <td>M</td>\n",
              "      <td>26-35</td>\n",
              "      <td>14</td>\n",
              "      <td>B</td>\n",
              "      <td>2</td>\n",
              "      <td>1</td>\n",
              "      <td>1</td>\n",
              "      <td>8.0</td>\n",
              "      <td>18.0</td>\n",
              "      <td>11535</td>\n",
              "    </tr>\n",
              "  </tbody>\n",
              "</table>\n",
              "<p>219181 rows × 12 columns</p>\n",
              "</div>"
            ],
            "text/plain": [
              "        User_ID Product_ID  ... Product_Category_3 Purchase\n",
              "5       1000003  P00193542  ...                NaN    15227\n",
              "9       1000005  P00274942  ...                NaN     7871\n",
              "10      1000005  P00251242  ...                NaN     5254\n",
              "11      1000005  P00014542  ...                NaN     3957\n",
              "12      1000005  P00031342  ...                NaN     6073\n",
              "...         ...        ...  ...                ...      ...\n",
              "537540  1004732  P00124642  ...                NaN    16610\n",
              "537541  1004732  P00051442  ...                NaN     9877\n",
              "537542  1004732  P00085242  ...               17.0    10036\n",
              "537543  1004732  P00117242  ...                NaN     7802\n",
              "537544  1004732  P00093342  ...               18.0    11535\n",
              "\n",
              "[219181 rows x 12 columns]"
            ]
          },
          "metadata": {
            "tags": []
          },
          "execution_count": 38
        }
      ]
    },
    {
      "cell_type": "markdown",
      "metadata": {
        "id": "Vv1xTr2YYNEw",
        "colab_type": "text"
      },
      "source": [
        "---"
      ]
    },
    {
      "cell_type": "code",
      "metadata": {
        "id": "uFZxfCsniED3",
        "colab_type": "code",
        "colab": {
          "base_uri": "https://localhost:8080/",
          "height": 35
        },
        "outputId": "40ae3944-958d-40b1-ff5a-a4586324aa6f"
      },
      "source": [
        "(data.shape[0])"
      ],
      "execution_count": 43,
      "outputs": [
        {
          "output_type": "execute_result",
          "data": {
            "text/plain": [
              "537577"
            ]
          },
          "metadata": {
            "tags": []
          },
          "execution_count": 43
        }
      ]
    },
    {
      "cell_type": "code",
      "metadata": {
        "id": "6c2_-d9ciawD",
        "colab_type": "code",
        "colab": {
          "base_uri": "https://localhost:8080/",
          "height": 35
        },
        "outputId": "5e09f47f-14fd-4872-90a5-10bf4b447be0"
      },
      "source": [
        "219181/537577\n"
      ],
      "execution_count": 44,
      "outputs": [
        {
          "output_type": "execute_result",
          "data": {
            "text/plain": [
              "0.4077201963625676"
            ]
          },
          "metadata": {
            "tags": []
          },
          "execution_count": 44
        }
      ]
    },
    {
      "cell_type": "markdown",
      "metadata": {
        "id": "rKWLnHgwjp8B",
        "colab_type": "text"
      },
      "source": [
        "Reload?"
      ]
    },
    {
      "cell_type": "markdown",
      "metadata": {
        "id": "ElI6jhXnYNEx",
        "colab_type": "text"
      },
      "source": [
        "Больше про pandas можно найти по этом полезным ссылкам:"
      ]
    },
    {
      "cell_type": "markdown",
      "metadata": {
        "id": "itKnSrTFYNEx",
        "colab_type": "text"
      },
      "source": [
        "* Официальные туториалы: http://pandas.pydata.org/pandas-docs/stable/tutorials.html"
      ]
    },
    {
      "cell_type": "markdown",
      "metadata": {
        "id": "5anYf9hGYNEy",
        "colab_type": "text"
      },
      "source": [
        "* Статья на Хабре от [OpenDataScience сообщества](http://ods.ai/)**:** https://habr.com/company/ods/blog/322626/"
      ]
    },
    {
      "cell_type": "markdown",
      "metadata": {
        "id": "RtVuI14DYNEz",
        "colab_type": "text"
      },
      "source": [
        "* Подробный гайд: https://media.readthedocs.org/pdf/pandasguide/latest/pandasguide.pdf"
      ]
    },
    {
      "cell_type": "markdown",
      "metadata": {
        "id": "MySaKecMYNE0",
        "colab_type": "text"
      },
      "source": [
        "Главное в работе с новыми библиотеками -- не бояться тыкать в разные функции, смотреть типы возвращаемых объектов и активно пользоваться Яндексом, а ещё лучше понимать всё из docstring'а (`Shift+Tab` при нахождении курсора внутри скобок функции)."
      ]
    }
  ]
}